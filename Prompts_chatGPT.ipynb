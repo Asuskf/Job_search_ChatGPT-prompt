{
  "nbformat": 4,
  "nbformat_minor": 0,
  "metadata": {
    "colab": {
      "provenance": [],
      "authorship_tag": "ABX9TyOJ3Dm8m1C1nyoBD8Xiw8Q3",
      "include_colab_link": true
    },
    "kernelspec": {
      "name": "python3",
      "display_name": "Python 3"
    },
    "language_info": {
      "name": "python"
    }
  },
  "cells": [
    {
      "cell_type": "markdown",
      "metadata": {
        "id": "view-in-github",
        "colab_type": "text"
      },
      "source": [
        "<a href=\"https://colab.research.google.com/github/Asuskf/Job_search_ChatGPT-prompt/blob/main/Prompts_chatGPT.ipynb\" target=\"_parent\"><img src=\"https://colab.research.google.com/assets/colab-badge.svg\" alt=\"Open In Colab\"/></a>"
      ]
    },
    {
      "cell_type": "markdown",
      "source": [
        "# Conociendo la vacante (Prompt 1)\n",
        "Este **prompt** tiene como objetivo cuáles son las soft skills que busca la empresa que poseas, es necesario hacer una autoevaluación si se cumplen y cuáles debes mejorar.\n",
        "\n",
        "1️⃣ 𝗥𝗼𝗹 (𝗥):\n",
        "\n",
        ">  Eres un especialista en reclutamiento de perfiles IT.\n",
        "\n",
        "2️⃣ 𝗢𝗯𝗷𝗲𝘁𝗶𝘃𝗼 (𝗢):\n",
        "\n",
        "> Quiero que analises el texto: [ingrese el texto] acerca de la vacante de la empresa e infieran que soft skills están buscando.\n",
        "\n",
        "3️⃣ 𝗖𝗼𝗻𝘁𝗲𝘅𝘁𝗼 (𝗖):\n",
        "\n",
        "> Para mi respuesta necesito los habilidades blandas y duras que se extraigan del texto proporcionado y que se enfoquen para el puesto [ingrese el puesto] haciendo un resumen en las habilidades duras.\n",
        "\n",
        "4️⃣ 𝗘𝗷𝗲𝗺𝗽𝗹𝗼𝘀 (𝗘):\n",
        "\n",
        "> Ocupa este ejemplo para entender el nivel de detalle que estoy buscando:\n",
        "> La empresa [Ingrese el nombre de la empresa]\n",
        "> Busca en sus postulantes para el puesto [ingrese el puesto] las siguientes  habilidades:\n",
        "\n",
        "> Habilidades blandas:\n",
        "> - Liderazgo\n",
        "> - Comunicación efectiva\n",
        "\n",
        "> Habilidades duras:\n",
        "> - Python\n",
        "> - Idiomas\n",
        "\n",
        "5️⃣ 𝗙𝗼𝗿𝗺𝗮𝘁𝗼 (𝗙):\n",
        "> Escribelo en markdown.\n",
        "\n",
        "\n",
        "\n"
      ],
      "metadata": {
        "id": "3AkyBGkDTXBD"
      }
    },
    {
      "cell_type": "markdown",
      "source": [
        "### Preguntas bonus\n",
        "\n",
        "\n",
        "*   Qué habilidades técnicas o no técnicas específicas necesito tener para postular al cargo, no respuestas ambiguas.\n",
        "\n",
        "*   Qué habilidades específicas pueden no tener y aún así ser tomado en consideración para el puesto en base al texto proporcionado, no respuestas ambiguas.\n",
        "\n",
        "*  Que nivel de experiencia  (bajo, intermedio alto) en base al texto  debo tener en las herramientas para ser considerado para el puesto.\n",
        "crea: una tabla.\n",
        "\n"
      ],
      "metadata": {
        "id": "wJMBdc47bbYi"
      }
    },
    {
      "cell_type": "markdown",
      "source": [
        "# Prompt 2\n",
        "Plantilla de CV\n",
        "\n",
        "Este prompt tiene como objetivo saber qué datos relevantes colocar en la estructura del **CV** para resaltar de entre los postulantes.\n",
        "\n",
        "2️⃣ 𝗢𝗯𝗷𝗲𝘁𝗶𝘃𝗼 (𝗢):\n",
        "> Quiero destacar de entre los postulantes para el puesto.\n",
        "\n",
        "3️⃣ 𝗖𝗼𝗻𝘁𝗲𝘅𝘁𝗼 (𝗖):\n",
        "> Para mi respuesta necesito una estructura de CV acorde al puesto.\n",
        "\n",
        "4️⃣ 𝗘𝗷𝗲𝗺𝗽𝗹𝗼𝘀 (𝗘):\n",
        "> Ocupa este ejemplo para entender el nivel de detalle que estoy buscando:\n",
        "> En tu CV debes colocar:\n",
        "> Datos personales:\n",
        "> * Nombre\n",
        "> * Dirección\n",
        "> * NIvel de estudios en orden cronológico del mayor al menor\n",
        "> Logros en:\n",
        "> * python\n",
        "> * En la optimización de tiempo o recursos monetarios\n",
        "> Cursos:\n",
        "> * en x, y herramienta\n",
        "> No colocar experiencia en UX/UI\n",
        "\n",
        "5️⃣ 𝗙𝗼𝗿𝗺𝗮𝘁𝗼 (𝗙):\n",
        "\n",
        "Crea un cv en formato markdown con la información necesaria.\n"
      ],
      "metadata": {
        "id": "7UMyvPYDe2EK"
      }
    },
    {
      "cell_type": "markdown",
      "source": [
        "### Añadir\n",
        "\n",
        "*   Añade al CV un apartado con resumen.\n",
        "*   Añade al CV un apartado con experiencia laboral que tengan meses en su temporalidad.\n",
        "*   Añade al CV un apartado con proyectos destacados.\n",
        "\n"
      ],
      "metadata": {
        "id": "0SmzgPxQAThu"
      }
    },
    {
      "cell_type": "markdown",
      "source": [
        "### Preguntas bonus\n",
        "* Que no debo colocar en mi cv.\n",
        "* Que tipo de herramientas no son relevantes para el puesto."
      ],
      "metadata": {
        "id": "907qUQG-CqNs"
      }
    },
    {
      "cell_type": "markdown",
      "source": [
        "# Prompt 3\n",
        "Plantilla de carta motivación\n",
        "\n",
        "Este prompt tiene como objetivo saber qué datos relevantes colocar en la estructura del **CV** para resaltar de entre los postulantes.\n",
        "\n",
        "2️⃣ 𝗢𝗯𝗷𝗲𝘁𝗶𝘃𝗼 (𝗢):\n",
        "> Quiero destacar de entre los postulantes para el puesto.\n",
        "\n",
        "3️⃣ 𝗖𝗼𝗻𝘁𝗲𝘅𝘁𝗼 (𝗖):\n",
        "> Para mi respuesta necesito una estructura de carta de motivación.\n",
        "\n",
        "4️⃣ 𝗘𝗷𝗲𝗺𝗽𝗹𝗼𝘀 (𝗘):\n",
        "> Ocupa este ejemplo para entender el nivel de detalle que estoy buscando:\n",
        "> En la estructura se debe mencionar:\n",
        "\n",
        "> Encabezado:\n",
        "> Incluye tu información de contacto (nombre, dirección, número de teléfono y dirección de correo electrónico) en la parte superior de la carta.\n",
        "\n",
        "> Saludo: Dirígete al destinatario de la carta de manera apropiada. Si es posible, investiga y menciona el nombre de la persona a la que va dirigida la carta.\n",
        "\n",
        "> Introducción: Comienza la carta indicando el motivo de tu interés, como la posición o la oportunidad a la que estás aplicando.\n",
        "\n",
        "> Presentación: Breve presentación de ti mismo, incluyendo tu nombre, formación académica, experiencia laboral relevante y cualquier logro destacado que respalde tu candidatura.\n",
        "\n",
        "> Motivación: Explica por qué estás interesado en la posición u oportunidad en cuestión. Menciona tu entusiasmo por la empresa, la organización o el proyecto, y cómo encaja con tus metas personales y profesionales.\n",
        "\n",
        "> Habilidades y logros:Destaca tus habilidades, conocimientos y logros relevantes que demuestren por qué eres un candidato adecuado para la posición. Usa ejemplos concretos para respaldar tus afirmaciones.\n",
        "\n",
        "> Coincidencias: Destaca cómo tus habilidades y experiencia coinciden con los requisitos o las cualidades que la empresa busca en un candidato.\n",
        "\n",
        ">Interés a largo plazo: Muestra tu interés en establecer una relación a largo plazo con la empresa u organización, enfatizando tu compromiso y deseos de contribuir al éxito de la misma.\n",
        "\n",
        "> Cierre: Concluye la carta de motivación agradeciendo al destinatario por su tiempo y consideración. Deja en claro tu disposición para proporcionar más información o participar en una entrevista.\n",
        "\n",
        "> Despedida: Utiliza una despedida profesional, como \"Atentamente\" o \"Cordialmente,\" seguida de tu firma manuscrita (si la carta se imprimirá) y tu nombre impreso.\n",
        "\n",
        "\n",
        "5️⃣ 𝗙𝗼𝗿𝗺𝗮𝘁𝗼 (𝗙):\n",
        "\n",
        "Crea un cara de motivación en formato markdown con la información necesaria con **200** palabras."
      ],
      "metadata": {
        "id": "_3CSayGFABz9"
      }
    },
    {
      "cell_type": "markdown",
      "source": [
        "# Prompt 3\n",
        "Tips para entrevista con RRHH\n",
        "\n",
        "2️⃣ 𝗢𝗯𝗷𝗲𝘁𝗶𝘃𝗼 (𝗢):\n",
        "\n",
        "Quiero que mi entrevista sea inolvidable para la reclutadora\n",
        "\n",
        "3️⃣ 𝗖𝗼𝗻𝘁𝗲𝘅𝘁𝗼 (𝗖):\n",
        "\n",
        "Para mi respuesta necesito es una lista con los ítems  que se debe y no se debe hacer para en una entrevista\n",
        "\n",
        "4️⃣ 𝗘𝗷𝗲𝗺𝗽𝗹𝗼𝘀 (𝗘):\n",
        "\n",
        "Ocupa este ejemplo para entender el nivel de detalle que estoy buscando: Para una entrevista con una reclutadora no se debe hacer:\n",
        "> * Hablar en lenguaje muy técnico\n",
        "> * Responder de forma ambigua\n",
        "Lo que se debe hacer es:\n",
        "> * Responder con la verdad\n",
        "> * Responder de forma clara\n",
        "> * Si no es el momento idóneo  reagendar la llamada\n",
        "\n",
        "5️⃣ 𝗙𝗼𝗿𝗺𝗮𝘁𝗼 (𝗙):\n",
        "\n",
        "Crea una tabla con la información necesaria más relevante"
      ],
      "metadata": {
        "id": "RpOSHnVPFcqj"
      }
    },
    {
      "cell_type": "markdown",
      "source": [
        "# Prompt bonus\n",
        "Prepárate para tú entrevista técnica\n",
        "\n",
        "2️⃣ 𝗢𝗯𝗷𝗲𝘁𝗶𝘃𝗼 (𝗢):\n",
        "\n",
        "Prepara distintas pruebas técnicas acorde al perfil solicitado\n",
        "\n",
        "3️⃣ 𝗖𝗼𝗻𝘁𝗲𝘅𝘁𝗼 (𝗖):\n",
        "\n",
        "Para mi respuesta necesito 5 pruebas técnicas categorizadas por nivel desde el fácil al avanzado mezclando alguna de las herramientas solicitadas en el perfil\n",
        "\n",
        "4️⃣ 𝗘𝗷𝗲𝗺𝗽𝗹𝗼𝘀 (𝗘):\n",
        "\n",
        "Ocupa este ejemplo para entender el nivel de detalle que estoy buscando:\n",
        "\n",
        "Prueba 1 nivel fácil\n",
        "> El objetivo de esta prueba es ver la optimización de recursos monetarios y tiempo en usando una base de datos NoSql y creando un pipeline en databricks orquestando con data Factory\n",
        "\n",
        "Prueba 2 nivel Medio\n",
        "> El objetivo de esta prueba es ver la creación de Querys optimizadas en sql y cassandra\n",
        "\n",
        "5️⃣ 𝗙𝗼𝗿𝗺𝗮𝘁𝗼 (𝗙):\n",
        "\n",
        "Crea una documento en formato markdown\n"
      ],
      "metadata": {
        "id": "6B32q2yvH6_H"
      }
    }
  ]
}